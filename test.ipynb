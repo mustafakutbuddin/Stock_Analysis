{
 "cells": [
  {
   "cell_type": "code",
   "execution_count": 78,
   "metadata": {},
   "outputs": [],
   "source": [
    "# Import the yfinance. If you get module not found error the run !pip install yfinance from your Jupyter notebook\n",
    "import yfinance as yf\n",
    "from datetime import datetime, timedelta\n",
    "import math\n",
    "import statistics\n",
    "import numpy as np"
   ]
  },
  {
   "cell_type": "code",
   "execution_count": 25,
   "metadata": {},
   "outputs": [
    {
     "name": "stderr",
     "output_type": "stream",
     "text": [
      "c:\\Users\\musta\\anaconda3\\envs\\stock\\lib\\site-packages\\yfinance\\utils.py:775: FutureWarning: The 'unit' keyword in TimedeltaIndex construction is deprecated and will be removed in a future version. Use pd.to_timedelta instead.\n",
      "  df.index += _pd.TimedeltaIndex(dst_error_hours, 'h')\n",
      "[*********************100%%**********************]  1 of 1 completed"
     ]
    },
    {
     "name": "stdout",
     "output_type": "stream",
     "text": [
      "<class 'pandas.core.frame.DataFrame'>\n",
      "             Open    High    Low   Close  Adj Close   Volume\n",
      "Date                                                        \n",
      "2023-02-15  567.8  578.85  561.9  569.05     565.25  9259895\n",
      "2023-02-16  580.0  590.80  573.3  577.20     573.35  9909820\n",
      "2023-02-17  579.0  586.00  569.1  578.65     574.79  8880620\n",
      "2023-02-20  567.3  581.65  560.0  579.70     575.83  9507162\n",
      "2023-02-21  585.0  593.80  579.2  583.20     579.31  7702230\n"
     ]
    },
    {
     "name": "stderr",
     "output_type": "stream",
     "text": [
      "\n"
     ]
    }
   ],
   "source": [
    "hist_data = yf.download(\n",
    "            tickers = 'ADANIPORTS.NS', interval='1d', period='1y', rounding=True)  # YYYY-MM-DD\n",
    "\n",
    "print(type(hist_data))\n",
    "print(hist_data.head())"
   ]
  },
  {
   "cell_type": "code",
   "execution_count": 26,
   "metadata": {},
   "outputs": [
    {
     "data": {
      "text/plain": [
       "247"
      ]
     },
     "execution_count": 26,
     "metadata": {},
     "output_type": "execute_result"
    }
   ],
   "source": [
    "len(hist_data)"
   ]
  },
  {
   "cell_type": "code",
   "execution_count": 27,
   "metadata": {},
   "outputs": [
    {
     "name": "stdout",
     "output_type": "stream",
     "text": [
      "Date\n",
      "2023-02-15     567.80\n",
      "2023-02-16     580.00\n",
      "2023-02-17     579.00\n",
      "2023-02-20     567.30\n",
      "2023-02-21     585.00\n",
      "               ...   \n",
      "2024-02-09    1252.60\n",
      "2024-02-12    1278.00\n",
      "2024-02-13    1249.95\n",
      "2024-02-14    1261.95\n",
      "2024-02-15    1275.00\n",
      "Name: Open, Length: 247, dtype: float64\n"
     ]
    },
    {
     "data": {
      "text/plain": [
       "Date\n",
       "2024-02-15    1275.0\n",
       "Name: Open, dtype: float64"
      ]
     },
     "execution_count": 27,
     "metadata": {},
     "output_type": "execute_result"
    }
   ],
   "source": [
    "l = hist_data.iloc[:,0]\n",
    "print(l)\n",
    "l[-1:]"
   ]
  },
  {
   "cell_type": "code",
   "execution_count": 28,
   "metadata": {},
   "outputs": [
    {
     "data": {
      "text/plain": [
       "1261.95"
      ]
     },
     "execution_count": 28,
     "metadata": {},
     "output_type": "execute_result"
    }
   ],
   "source": [
    "l.iloc[-2]"
   ]
  },
  {
   "cell_type": "code",
   "execution_count": 29,
   "metadata": {},
   "outputs": [
    {
     "data": {
      "text/plain": [
       "0.010341138713895193"
      ]
     },
     "execution_count": 29,
     "metadata": {},
     "output_type": "execute_result"
    }
   ],
   "source": [
    "(l.iloc[-1]/l.iloc[-2])-1"
   ]
  },
  {
   "cell_type": "code",
   "execution_count": 30,
   "metadata": {},
   "outputs": [
    {
     "data": {
      "text/plain": [
       "1267.85"
      ]
     },
     "execution_count": 30,
     "metadata": {},
     "output_type": "execute_result"
    }
   ],
   "source": [
    "hist_data.loc['2024-02-14']['Adj Close']"
   ]
  },
  {
   "cell_type": "code",
   "execution_count": 75,
   "metadata": {},
   "outputs": [
    {
     "name": "stdout",
     "output_type": "stream",
     "text": [
      "Current date: 2024-02-15\n",
      "Previous date: 2024-01-16\n"
     ]
    }
   ],
   "source": [
    "from datetime import datetime, timedelta\n",
    "\n",
    "# Get the current date\n",
    "current_date = datetime.now().date()\n",
    "\n",
    "# Calculate the previous date\n",
    "previous_date = current_date - timedelta(days=30)\n",
    "\n",
    "print(\"Current date:\", current_date)\n",
    "print(\"Previous date:\", previous_date)"
   ]
  },
  {
   "cell_type": "code",
   "execution_count": 32,
   "metadata": {},
   "outputs": [
    {
     "data": {
      "text/plain": [
       "datetime.date"
      ]
     },
     "execution_count": 32,
     "metadata": {},
     "output_type": "execute_result"
    }
   ],
   "source": [
    "type(current_date)"
   ]
  },
  {
   "cell_type": "code",
   "execution_count": 37,
   "metadata": {},
   "outputs": [],
   "source": [
    "start_date = '2024-02-14'\n",
    "start_date = datetime.strptime(start_date, \"%Y-%m-%d\")\n",
    "\n",
    "prevDate = start_date - timedelta(days=1)\n",
    "prevMonthDate = start_date - timedelta(days=30)"
   ]
  },
  {
   "cell_type": "markdown",
   "metadata": {},
   "source": [
    "# TESTING THE STOCK CLASS METHODS"
   ]
  },
  {
   "cell_type": "code",
   "execution_count": 34,
   "metadata": {},
   "outputs": [
    {
     "data": {
      "text/plain": [
       "1267.85"
      ]
     },
     "execution_count": 34,
     "metadata": {},
     "output_type": "execute_result"
    }
   ],
   "source": [
    "date='2024-02-14'\n",
    "# CurPrice\n",
    "hist_data.loc[str(date)]['Adj Close']"
   ]
  },
  {
   "cell_type": "code",
   "execution_count": 35,
   "metadata": {},
   "outputs": [
    {
     "data": {
      "text/plain": [
       "5.381930014130164"
      ]
     },
     "execution_count": 35,
     "metadata": {},
     "output_type": "execute_result"
    }
   ],
   "source": [
    "# MonthlyRet\n",
    "\n",
    "start_date = datetime.strptime(date, \"%Y-%m-%d\")\n",
    "\n",
    "prevMonthDate = start_date - timedelta(days=30)\n",
    "\n",
    "prices = hist_data.loc[prevMonthDate:start_date]['Adj Close']\n",
    "\n",
    "((prices.iloc[-1] - prices.iloc[0]) / prices.iloc[0]) * 100"
   ]
  },
  {
   "cell_type": "code",
   "execution_count": 54,
   "metadata": {},
   "outputs": [
    {
     "name": "stdout",
     "output_type": "stream",
     "text": [
      "1267.85\n",
      "1269.9\n"
     ]
    },
    {
     "data": {
      "text/plain": [
       "0.0016"
      ]
     },
     "execution_count": 54,
     "metadata": {},
     "output_type": "execute_result"
    }
   ],
   "source": [
    "# DailyReturn\n",
    "todays_date = datetime.now().date()\n",
    "\n",
    "prevDate = todays_date - timedelta(days=1)\n",
    "print(hist_data.loc[str(prevDate)]['Adj Close']); print(hist_data.loc[str(todays_date)]['Adj Close'])\n",
    "                                                        \n",
    "round((hist_data.loc[str(todays_date)]['Adj Close']/hist_data.loc[str(prevDate)]['Adj Close'])-1, 4)"
   ]
  },
  {
   "cell_type": "markdown",
   "metadata": {},
   "source": [
    "# TESTING SUMMARIZATION CLASS METHODS"
   ]
  },
  {
   "cell_type": "code",
   "execution_count": 39,
   "metadata": {},
   "outputs": [
    {
     "data": {
      "text/plain": [
       "1269.9"
      ]
     },
     "execution_count": 39,
     "metadata": {},
     "output_type": "execute_result"
    }
   ],
   "source": [
    "hist_data.loc[str(todays_date)]['Close']"
   ]
  },
  {
   "cell_type": "code",
   "execution_count": 40,
   "metadata": {},
   "outputs": [
    {
     "data": {
      "text/plain": [
       "1275.0"
      ]
     },
     "execution_count": 40,
     "metadata": {},
     "output_type": "execute_result"
    }
   ],
   "source": [
    "hist_data.loc[str(todays_date)]['Open']"
   ]
  },
  {
   "cell_type": "code",
   "execution_count": 41,
   "metadata": {},
   "outputs": [
    {
     "data": {
      "text/plain": [
       "-0.20020040100280356"
      ]
     },
     "execution_count": 41,
     "metadata": {},
     "output_type": "execute_result"
    }
   ],
   "source": [
    "numYears = 2\n",
    "(((hist_data.loc[str(todays_date)]['Close']/hist_data.loc[str(todays_date)]['Open'])**(1/numYears))-1)*100"
   ]
  },
  {
   "cell_type": "code",
   "execution_count": 77,
   "metadata": {},
   "outputs": [
    {
     "name": "stdout",
     "output_type": "stream",
     "text": [
      "1193.35\n",
      "1166.85\n",
      "1154.05\n",
      "1152.45\n",
      "Date: 2024-01-20 00:00:00, No data available\n",
      "Date: 2024-01-21 00:00:00, No data available\n",
      "1152.45\n",
      "1137.1\n",
      "1120.6\n",
      "1146.3\n",
      "Date: 2024-01-26 00:00:00, No data available\n",
      "Date: 2024-01-27 00:00:00, No data available\n",
      "Date: 2024-01-28 00:00:00, No data available\n",
      "1196.65\n",
      "1187.35\n",
      "1207.65\n",
      "1218.85\n",
      "1261.45\n",
      "Date: 2024-02-03 00:00:00, No data available\n",
      "Date: 2024-02-04 00:00:00, No data available\n",
      "1258.55\n",
      "1273.1\n",
      "1255.65\n",
      "1245.2\n",
      "1271.5\n",
      "Date: 2024-02-10 00:00:00, No data available\n",
      "Date: 2024-02-11 00:00:00, No data available\n",
      "1249.35\n",
      "1264.8\n",
      "1267.85\n",
      "1269.9\n"
     ]
    }
   ],
   "source": [
    "import pandas as pd\n",
    "\n",
    "start_date = \"2024-01-01\"\n",
    "end_date = \"2024-02-15\"\n",
    "\n",
    "date_range = pd.date_range(start=previous_date, end=current_date)\n",
    "\n",
    "for date in date_range:\n",
    "    try:\n",
    "        print(hist_data.loc[str(date)]['Close'])\n",
    "    except KeyError:\n",
    "        print(f\"Date: {date}, No data available\")"
   ]
  },
  {
   "cell_type": "code",
   "execution_count": 83,
   "metadata": {},
   "outputs": [
    {
     "data": {
      "text/plain": [
       "24.95434678626976"
      ]
     },
     "execution_count": 83,
     "metadata": {},
     "output_type": "execute_result"
    }
   ],
   "source": [
    "# daily return list = LL\n",
    "LL = [-0.0081, -0.0222, -0.011, -0.0014, -0.0133, -0.0145, 0.0229, -0.0078, 0.0171, 0.0093, 0.035, 0.0116, -0.0137, -0.0083, 0.0211, 0.0124, 0.0024, -0.0006]\n",
    "(math.sqrt(252)*(statistics.stdev(LL)))*100"
   ]
  },
  {
   "cell_type": "code",
   "execution_count": 84,
   "metadata": {},
   "outputs": [
    {
     "data": {
      "text/plain": [
       "0.0017166666666666667"
      ]
     },
     "execution_count": 84,
     "metadata": {},
     "output_type": "execute_result"
    }
   ],
   "source": [
    "np.mean(LL)"
   ]
  },
  {
   "cell_type": "code",
   "execution_count": 85,
   "metadata": {},
   "outputs": [
    {
     "data": {
      "text/plain": [
       "0.01571976088726992"
      ]
     },
     "execution_count": 85,
     "metadata": {},
     "output_type": "execute_result"
    }
   ],
   "source": [
    "statistics.stdev(LL)"
   ]
  },
  {
   "cell_type": "code",
   "execution_count": 86,
   "metadata": {},
   "outputs": [
    {
     "data": {
      "text/plain": [
       "15.874507866387544"
      ]
     },
     "execution_count": 86,
     "metadata": {},
     "output_type": "execute_result"
    }
   ],
   "source": [
    "math.sqrt(252)"
   ]
  },
  {
   "cell_type": "code",
   "execution_count": 91,
   "metadata": {},
   "outputs": [
    {
     "data": {
      "text/plain": [
       "1.733565713841978"
      ]
     },
     "execution_count": 91,
     "metadata": {},
     "output_type": "execute_result"
    }
   ],
   "source": [
    "(15.874507866387544*(0.0017166666666666667/0.01571976088726992))"
   ]
  },
  {
   "cell_type": "code",
   "execution_count": 90,
   "metadata": {},
   "outputs": [
    {
     "data": {
      "text/plain": [
       "1.733565713841978"
      ]
     },
     "execution_count": 90,
     "metadata": {},
     "output_type": "execute_result"
    }
   ],
   "source": [
    "# sharpy ratio\n",
    "(math.sqrt(252)*(np.mean(LL)/statistics.stdev(LL)))"
   ]
  },
  {
   "cell_type": "code",
   "execution_count": 103,
   "metadata": {},
   "outputs": [
    {
     "name": "stderr",
     "output_type": "stream",
     "text": [
      "c:\\Users\\musta\\anaconda3\\envs\\stock\\lib\\site-packages\\yfinance\\utils.py:775: FutureWarning: The 'unit' keyword in TimedeltaIndex construction is deprecated and will be removed in a future version. Use pd.to_timedelta instead.\n",
      "  df.index += _pd.TimedeltaIndex(dst_error_hours, 'h')\n",
      "[*********************100%%**********************]  1 of 1 completed\n"
     ]
    }
   ],
   "source": [
    "hist_data = yf.download(tickers='^NSEI', interval='1d', period='1y', rounding=True)  # YYYY-MM-DD"
   ]
  },
  {
   "cell_type": "code",
   "execution_count": 106,
   "metadata": {},
   "outputs": [
    {
     "data": {
      "text/html": [
       "<div>\n",
       "<style scoped>\n",
       "    .dataframe tbody tr th:only-of-type {\n",
       "        vertical-align: middle;\n",
       "    }\n",
       "\n",
       "    .dataframe tbody tr th {\n",
       "        vertical-align: top;\n",
       "    }\n",
       "\n",
       "    .dataframe thead th {\n",
       "        text-align: right;\n",
       "    }\n",
       "</style>\n",
       "<table border=\"1\" class=\"dataframe\">\n",
       "  <thead>\n",
       "    <tr style=\"text-align: right;\">\n",
       "      <th></th>\n",
       "      <th>Open</th>\n",
       "      <th>High</th>\n",
       "      <th>Low</th>\n",
       "      <th>Close</th>\n",
       "      <th>Adj Close</th>\n",
       "      <th>Volume</th>\n",
       "    </tr>\n",
       "    <tr>\n",
       "      <th>Date</th>\n",
       "      <th></th>\n",
       "      <th></th>\n",
       "      <th></th>\n",
       "      <th></th>\n",
       "      <th></th>\n",
       "      <th></th>\n",
       "    </tr>\n",
       "  </thead>\n",
       "  <tbody>\n",
       "    <tr>\n",
       "      <th>2023-02-15</th>\n",
       "      <td>17896.60</td>\n",
       "      <td>18034.10</td>\n",
       "      <td>17853.80</td>\n",
       "      <td>18015.85</td>\n",
       "      <td>18015.85</td>\n",
       "      <td>229300</td>\n",
       "    </tr>\n",
       "    <tr>\n",
       "      <th>2023-02-16</th>\n",
       "      <td>18094.75</td>\n",
       "      <td>18134.75</td>\n",
       "      <td>18000.65</td>\n",
       "      <td>18035.85</td>\n",
       "      <td>18035.85</td>\n",
       "      <td>230200</td>\n",
       "    </tr>\n",
       "    <tr>\n",
       "      <th>2023-02-17</th>\n",
       "      <td>17974.85</td>\n",
       "      <td>18034.25</td>\n",
       "      <td>17884.60</td>\n",
       "      <td>17944.20</td>\n",
       "      <td>17944.20</td>\n",
       "      <td>208100</td>\n",
       "    </tr>\n",
       "    <tr>\n",
       "      <th>2023-02-20</th>\n",
       "      <td>17965.55</td>\n",
       "      <td>18004.35</td>\n",
       "      <td>17818.40</td>\n",
       "      <td>17844.60</td>\n",
       "      <td>17844.60</td>\n",
       "      <td>174600</td>\n",
       "    </tr>\n",
       "    <tr>\n",
       "      <th>2023-02-21</th>\n",
       "      <td>17905.80</td>\n",
       "      <td>17924.90</td>\n",
       "      <td>17800.30</td>\n",
       "      <td>17826.70</td>\n",
       "      <td>17826.70</td>\n",
       "      <td>198200</td>\n",
       "    </tr>\n",
       "    <tr>\n",
       "      <th>...</th>\n",
       "      <td>...</td>\n",
       "      <td>...</td>\n",
       "      <td>...</td>\n",
       "      <td>...</td>\n",
       "      <td>...</td>\n",
       "      <td>...</td>\n",
       "    </tr>\n",
       "    <tr>\n",
       "      <th>2024-02-09</th>\n",
       "      <td>21727.00</td>\n",
       "      <td>21804.45</td>\n",
       "      <td>21629.90</td>\n",
       "      <td>21782.50</td>\n",
       "      <td>21782.50</td>\n",
       "      <td>349200</td>\n",
       "    </tr>\n",
       "    <tr>\n",
       "      <th>2024-02-12</th>\n",
       "      <td>21800.80</td>\n",
       "      <td>21831.70</td>\n",
       "      <td>21574.75</td>\n",
       "      <td>21616.05</td>\n",
       "      <td>21616.05</td>\n",
       "      <td>287400</td>\n",
       "    </tr>\n",
       "    <tr>\n",
       "      <th>2024-02-13</th>\n",
       "      <td>21664.30</td>\n",
       "      <td>21766.80</td>\n",
       "      <td>21543.35</td>\n",
       "      <td>21743.25</td>\n",
       "      <td>21743.25</td>\n",
       "      <td>365800</td>\n",
       "    </tr>\n",
       "    <tr>\n",
       "      <th>2024-02-14</th>\n",
       "      <td>21578.15</td>\n",
       "      <td>21870.85</td>\n",
       "      <td>21530.20</td>\n",
       "      <td>21840.05</td>\n",
       "      <td>21840.05</td>\n",
       "      <td>359100</td>\n",
       "    </tr>\n",
       "    <tr>\n",
       "      <th>2024-02-15</th>\n",
       "      <td>21578.20</td>\n",
       "      <td>21953.85</td>\n",
       "      <td>21794.80</td>\n",
       "      <td>21910.75</td>\n",
       "      <td>21910.75</td>\n",
       "      <td>0</td>\n",
       "    </tr>\n",
       "  </tbody>\n",
       "</table>\n",
       "<p>246 rows × 6 columns</p>\n",
       "</div>"
      ],
      "text/plain": [
       "                Open      High       Low     Close  Adj Close  Volume\n",
       "Date                                                                 \n",
       "2023-02-15  17896.60  18034.10  17853.80  18015.85   18015.85  229300\n",
       "2023-02-16  18094.75  18134.75  18000.65  18035.85   18035.85  230200\n",
       "2023-02-17  17974.85  18034.25  17884.60  17944.20   17944.20  208100\n",
       "2023-02-20  17965.55  18004.35  17818.40  17844.60   17844.60  174600\n",
       "2023-02-21  17905.80  17924.90  17800.30  17826.70   17826.70  198200\n",
       "...              ...       ...       ...       ...        ...     ...\n",
       "2024-02-09  21727.00  21804.45  21629.90  21782.50   21782.50  349200\n",
       "2024-02-12  21800.80  21831.70  21574.75  21616.05   21616.05  287400\n",
       "2024-02-13  21664.30  21766.80  21543.35  21743.25   21743.25  365800\n",
       "2024-02-14  21578.15  21870.85  21530.20  21840.05   21840.05  359100\n",
       "2024-02-15  21578.20  21953.85  21794.80  21910.75   21910.75       0\n",
       "\n",
       "[246 rows x 6 columns]"
      ]
     },
     "execution_count": 106,
     "metadata": {},
     "output_type": "execute_result"
    }
   ],
   "source": [
    "hist_data"
   ]
  },
  {
   "cell_type": "code",
   "execution_count": 100,
   "metadata": {},
   "outputs": [],
   "source": [
    "dd = {'BPCL.NS': 38.05, 'IOC.NS': 32.21, 'HINDPETRO.NS': 30.65, 'COALINDIA.NS': 24.86, 'POWERGRID.NS': 19.79, 'SBIN.NS': 19.59, 'ONGC.NS': 17.95, 'SUNPHARMA.NS': 15.61, 'GAIL.NS': 13.84, 'YESBANK.NS': 13.06} "
   ]
  },
  {
   "cell_type": "code",
   "execution_count": 1,
   "metadata": {},
   "outputs": [
    {
     "data": {
      "text/plain": [
       "-0.011000000000000001"
      ]
     },
     "execution_count": 1,
     "metadata": {},
     "output_type": "execute_result"
    }
   ],
   "source": [
    "sum([0.003, -0.02, 0.006])"
   ]
  },
  {
   "cell_type": "code",
   "execution_count": null,
   "metadata": {},
   "outputs": [],
   "source": []
  },
  {
   "cell_type": "code",
   "execution_count": null,
   "metadata": {},
   "outputs": [],
   "source": []
  },
  {
   "cell_type": "code",
   "execution_count": null,
   "metadata": {},
   "outputs": [],
   "source": []
  },
  {
   "cell_type": "code",
   "execution_count": 3,
   "metadata": {},
   "outputs": [],
   "source": []
  },
  {
   "cell_type": "code",
   "execution_count": 6,
   "metadata": {},
   "outputs": [
    {
     "name": "stdout",
     "output_type": "stream",
     "text": [
      "{'address1': 'One Microsoft Way', 'city': 'Redmond', 'state': 'WA', 'zip': '98052-6399', 'country': 'United States', 'phone': '425 882 8080', 'website': 'https://www.microsoft.com', 'industry': 'Software - Infrastructure', 'industryKey': 'software-infrastructure', 'industryDisp': 'Software - Infrastructure', 'sector': 'Technology', 'sectorKey': 'technology', 'sectorDisp': 'Technology', 'longBusinessSummary': 'Microsoft Corporation develops and supports software, services, devices and solutions worldwide. The Productivity and Business Processes segment offers office, exchange, SharePoint, Microsoft Teams, office 365 Security and Compliance, Microsoft viva, and Microsoft 365 copilot; and office consumer services, such as Microsoft 365 consumer subscriptions, Office licensed on-premises, and other office services. This segment also provides LinkedIn; and dynamics business solutions, including Dynamics 365, a set of intelligent, cloud-based applications across ERP, CRM, power apps, and power automate; and on-premises ERP and CRM applications. The Intelligent Cloud segment offers server products and cloud services, such as azure and other cloud services; SQL and windows server, visual studio, system center, and related client access licenses, as well as nuance and GitHub; and enterprise services including enterprise support services, industry solutions, and nuance professional services. The More Personal Computing segment offers Windows, including windows OEM licensing and other non-volume licensing of the Windows operating system; Windows commercial comprising volume licensing of the Windows operating system, windows cloud services, and other Windows commercial offerings; patent licensing; and windows Internet of Things; and devices, such as surface, HoloLens, and PC accessories. Additionally, this segment provides gaming, which includes Xbox hardware and content, and first- and third-party content; Xbox game pass and other subscriptions, cloud gaming, advertising, third-party disc royalties, and other cloud services; and search and news advertising, which includes Bing, Microsoft News and Edge, and third-party affiliates. The company sells its products through OEMs, distributors, and resellers; and directly through digital marketplaces, online, and retail stores. The company was founded in 1975 and is headquartered in Redmond, Washington.', 'fullTimeEmployees': 221000, 'companyOfficers': [{'maxAge': 1, 'name': 'Mr. Satya  Nadella', 'age': 56, 'title': 'Chairman & CEO', 'yearBorn': 1967, 'fiscalYear': 2023, 'totalPay': 9276400, 'exercisedValue': 0, 'unexercisedValue': 0}, {'maxAge': 1, 'name': 'Mr. Bradford L. Smith LCA', 'age': 64, 'title': 'President & Vice Chairman', 'yearBorn': 1959, 'fiscalYear': 2023, 'totalPay': 3591277, 'exercisedValue': 0, 'unexercisedValue': 0}, {'maxAge': 1, 'name': 'Ms. Amy E. Hood', 'age': 51, 'title': 'Executive VP & CFO', 'yearBorn': 1972, 'fiscalYear': 2023, 'totalPay': 3452196, 'exercisedValue': 0, 'unexercisedValue': 0}, {'maxAge': 1, 'name': 'Mr. Judson B. Althoff', 'age': 50, 'title': 'Executive VP & Chief Commercial Officer', 'yearBorn': 1973, 'fiscalYear': 2023, 'totalPay': 3355797, 'exercisedValue': 0, 'unexercisedValue': 0}, {'maxAge': 1, 'name': 'Mr. Christopher David Young', 'age': 51, 'title': 'Executive Vice President of Business Development, Strategy & Ventures', 'yearBorn': 1972, 'fiscalYear': 2023, 'totalPay': 2460507, 'exercisedValue': 0, 'unexercisedValue': 0}, {'maxAge': 1, 'name': 'Ms. Alice L. Jolla', 'age': 56, 'title': 'Corporate VP & Chief Accounting Officer', 'yearBorn': 1967, 'fiscalYear': 2023, 'exercisedValue': 0, 'unexercisedValue': 0}, {'maxAge': 1, 'name': 'Mr. James Kevin Scott', 'age': 51, 'title': 'Executive VP of AI & CTO', 'yearBorn': 1972, 'fiscalYear': 2023, 'exercisedValue': 0, 'unexercisedValue': 0}, {'maxAge': 1, 'name': 'Brett  Iversen', 'title': 'Vice President of Investor Relations', 'fiscalYear': 2023, 'exercisedValue': 0, 'unexercisedValue': 0}, {'maxAge': 1, 'name': 'Mr. Hossein  Nowbar', 'title': 'Chief Legal Officer', 'fiscalYear': 2023, 'exercisedValue': 0, 'unexercisedValue': 0}, {'maxAge': 1, 'name': 'Mr. Frank X. Shaw', 'title': 'Chief Communications Officer', 'fiscalYear': 2023, 'exercisedValue': 0, 'unexercisedValue': 0}], 'auditRisk': 2, 'boardRisk': 5, 'compensationRisk': 2, 'shareHolderRightsRisk': 2, 'overallRisk': 1, 'governanceEpochDate': 1706745600, 'compensationAsOfEpochDate': 1703980800, 'maxAge': 86400, 'priceHint': 2, 'previousClose': 414.11, 'open': 415.25, 'dayLow': 415.09, 'dayHigh': 420.82, 'regularMarketPreviousClose': 414.11, 'regularMarketOpen': 415.25, 'regularMarketDayLow': 415.09, 'regularMarketDayHigh': 420.82, 'dividendRate': 3.0, 'dividendYield': 0.0070999996, 'exDividendDate': 1707868800, 'payoutRatio': 0.2523, 'fiveYearAvgDividendYield': 0.98, 'beta': 0.899, 'trailingPE': 38.02441, 'forwardPE': 31.501871, 'volume': 21748087, 'regularMarketVolume': 21748087, 'averageVolume': 25853262, 'averageVolume10days': 27407520, 'averageDailyVolume10Day': 27407520, 'bid': 420.74, 'ask': 421.1, 'bidSize': 1000, 'askSize': 900, 'marketCap': 3124871299072, 'fiftyTwoWeekLow': 245.61, 'fiftyTwoWeekHigh': 420.82, 'priceToSalesTrailing12Months': 13.730688, 'fiftyDayAverage': 385.2524, 'twoHundredDayAverage': 345.7469, 'trailingAnnualDividendRate': 2.86, 'trailingAnnualDividendYield': 0.0069063776, 'currency': 'USD', 'enterpriseValue': 3155245924352, 'profitMargins': 0.36269, 'floatShares': 7419662096, 'sharesOutstanding': 7430439936, 'sharesShort': 49875453, 'sharesShortPriorMonth': 51394982, 'sharesShortPreviousMonthDate': 1703808000, 'dateShortInterest': 1706659200, 'sharesPercentSharesOut': 0.0067000003, 'heldPercentInsiders': 0.00056, 'heldPercentInstitutions': 0.73125, 'shortRatio': 1.98, 'shortPercentOfFloat': 0.0067000003, 'impliedSharesOutstanding': 7432640000, 'bookValue': 32.06, 'priceToBook': 13.117591, 'lastFiscalYearEnd': 1688083200, 'nextFiscalYearEnd': 1719705600, 'mostRecentQuarter': 1703980800, 'earningsQuarterlyGrowth': 0.332, 'netIncomeToCommon': 82541002752, 'trailingEps': 11.06, 'forwardEps': 13.35, 'pegRatio': 2.18, 'lastSplitFactor': '2:1', 'lastSplitDate': 1045526400, 'enterpriseToRevenue': 13.864, 'enterpriseToEbitda': 26.643, '52WeekChange': 0.55001473, 'SandP52WeekChange': 0.21495235, 'lastDividendValue': 0.75, 'lastDividendDate': 1700006400, 'exchange': 'NMS', 'quoteType': 'EQUITY', 'symbol': 'MSFT', 'underlyingSymbol': 'MSFT', 'shortName': 'Microsoft Corporation', 'longName': 'Microsoft Corporation', 'firstTradeDateEpochUtc': 511108200, 'timeZoneFullName': 'America/New_York', 'timeZoneShortName': 'EST', 'uuid': 'b004b3ec-de24-385e-b2c1-923f10d3fb62', 'messageBoardId': 'finmb_21835', 'gmtOffSetMilliseconds': -18000000, 'currentPrice': 420.55, 'targetHighPrice': 546.44, 'targetLowPrice': 298.1, 'targetMeanPrice': 455.86, 'targetMedianPrice': 455.0, 'recommendationMean': 1.7, 'recommendationKey': 'buy', 'numberOfAnalystOpinions': 44, 'totalCash': 80981999616, 'totalCashPerShare': 10.899, 'ebitda': 118427000832, 'totalDebt': 111358001152, 'quickRatio': 1.096, 'currentRatio': 1.218, 'totalRevenue': 227583000576, 'debtToEquity': 46.736, 'revenuePerShare': 30.612, 'returnOnAssets': 0.1519, 'returnOnEquity': 0.39174, 'freeCashflow': 58680999936, 'operatingCashflow': 102646996992, 'earningsGrowth': 0.332, 'revenueGrowth': 0.176, 'grossMargins': 0.69815004, 'ebitdaMargins': 0.52037, 'operatingMargins': 0.43585998, 'financialCurrency': 'USD', 'trailingPegRatio': 2.5028}\n",
      "                                 Open        High         Low       Close  \\\n",
      "Date                                                                        \n",
      "2024-01-10 00:00:00-05:00  376.369995  384.170013  376.320007  382.769989   \n",
      "2024-01-11 00:00:00-05:00  386.000000  390.679993  380.380005  384.630005   \n",
      "2024-01-12 00:00:00-05:00  385.489990  388.679993  384.649994  388.470001   \n",
      "2024-01-16 00:00:00-05:00  393.660004  394.029999  387.619995  390.269989   \n",
      "2024-01-17 00:00:00-05:00  387.980011  390.109985  384.809998  389.470001   \n",
      "\n",
      "                             Volume  Dividends  Stock Splits  \n",
      "Date                                                          \n",
      "2024-01-10 00:00:00-05:00  25514200        0.0           0.0  \n",
      "2024-01-11 00:00:00-05:00  27850800        0.0           0.0  \n",
      "2024-01-12 00:00:00-05:00  21645700        0.0           0.0  \n",
      "2024-01-16 00:00:00-05:00  27202300        0.0           0.0  \n",
      "2024-01-17 00:00:00-05:00  22234100        0.0           0.0  \n"
     ]
    },
    {
     "name": "stderr",
     "output_type": "stream",
     "text": [
      "c:\\Users\\musta\\anaconda3\\envs\\stock\\lib\\site-packages\\yfinance\\utils.py:775: FutureWarning: The 'unit' keyword in TimedeltaIndex construction is deprecated and will be removed in a future version. Use pd.to_timedelta instead.\n",
      "  df.index += _pd.TimedeltaIndex(dst_error_hours, 'h')\n"
     ]
    },
    {
     "data": {
      "text/plain": [
       "{'currency': 'USD',\n",
       " 'symbol': 'MSFT',\n",
       " 'exchangeName': 'NMS',\n",
       " 'instrumentType': 'EQUITY',\n",
       " 'firstTradeDate': 511108200,\n",
       " 'regularMarketTime': 1707512401,\n",
       " 'gmtoffset': -18000,\n",
       " 'timezone': 'EST',\n",
       " 'exchangeTimezoneName': 'America/New_York',\n",
       " 'regularMarketPrice': 420.55,\n",
       " 'chartPreviousClose': 375.79,\n",
       " 'priceHint': 2,\n",
       " 'currentTradingPeriod': {'pre': {'timezone': 'EST',\n",
       "   'start': 1707469200,\n",
       "   'end': 1707489000,\n",
       "   'gmtoffset': -18000},\n",
       "  'regular': {'timezone': 'EST',\n",
       "   'start': 1707489000,\n",
       "   'end': 1707512400,\n",
       "   'gmtoffset': -18000},\n",
       "  'post': {'timezone': 'EST',\n",
       "   'start': 1707512400,\n",
       "   'end': 1707526800,\n",
       "   'gmtoffset': -18000}},\n",
       " 'dataGranularity': '1d',\n",
       " 'range': '1mo',\n",
       " 'validRanges': ['1d',\n",
       "  '5d',\n",
       "  '1mo',\n",
       "  '3mo',\n",
       "  '6mo',\n",
       "  '1y',\n",
       "  '2y',\n",
       "  '5y',\n",
       "  '10y',\n",
       "  'ytd',\n",
       "  'max']}"
      ]
     },
     "execution_count": 6,
     "metadata": {},
     "output_type": "execute_result"
    }
   ],
   "source": [
    "msft = yf.Ticker(\"MSFT\")\n",
    "\n",
    "# get all stock info\n",
    "print(msft.info)\n",
    "\n",
    "# get historical market data\n",
    "hist = msft.history(period=\"1mo\")\n",
    "print(hist.head())\n",
    "\n",
    "# show meta information about the history (requires history() to be called first)\n",
    "msft.history_metadata"
   ]
  },
  {
   "cell_type": "code",
   "execution_count": null,
   "metadata": {},
   "outputs": [],
   "source": [
    "tickers = yf.Tickers('msft aapl goog')\n",
    "\n",
    "# access each ticker using (example)\n",
    "tickers.tickers['MSFT'].info\n",
    "tickers.tickers['AAPL'].history(period=\"1mo\")\n",
    "tickers.tickers['GOOG'].actions"
   ]
  },
  {
   "cell_type": "code",
   "execution_count": 6,
   "metadata": {},
   "outputs": [],
   "source": [
    "nifty50_ticker_list = ['ADANIPORTS.NS', 'ASIANPAINT.NS', 'AXISBANK.NS', 'BAJAJ-AUTO.NS', 'BAJFINANCE.NS', 'BAJAJFINSV.NS', 'BPCL.NS', 'BHARTIARTL.NS', 'INFRATEL.NS', 'CIPLA.NS',\n",
    "                       'COALINDIA.NS', 'DRREDDY.NS', 'EICHERMOT.NS', 'GAIL.NS', 'GRASIM.NS', 'HCLTECH.NS', 'HDFCBANK.NS', 'HEROMOTOCO.NS', 'HINDALCO.NS', 'HINDPETRO.NS', 'HINDUNILVR.NS',\n",
    "                       'HDFC.NS', 'ITC.NS', 'ICICIBANK.NS', 'IBULHSGFIN.NS', 'IOC.NS', 'INDUSINDBK.NS', 'INF.NS', 'JSWSTEEL.NS', 'KOTAKBANK.NS', 'LT.NS',\n",
    "                       'M&M', 'MARUTI', 'NTPC', 'ONGC', 'POWERGRID', 'RELIANCE', 'SBIN', 'SUNPHARMA', 'TCS', 'TATAMOTORS',\n",
    "                       'TATASTEEL.NS', 'TECHM.NS', 'TITAN.NS', 'UPL.NS', 'ULTRACEMCO.NS', 'VEDL.NS', 'WIPRO.NS', 'YESBANK.NS', 'ZEEL.NS']"
   ]
  },
  {
   "cell_type": "code",
   "execution_count": null,
   "metadata": {},
   "outputs": [],
   "source": []
  },
  {
   "cell_type": "code",
   "execution_count": null,
   "metadata": {},
   "outputs": [],
   "source": []
  },
  {
   "cell_type": "code",
   "execution_count": null,
   "metadata": {},
   "outputs": [],
   "source": []
  }
 ],
 "metadata": {
  "kernelspec": {
   "display_name": "stock",
   "language": "python",
   "name": "python3"
  },
  "language_info": {
   "codemirror_mode": {
    "name": "ipython",
    "version": 3
   },
   "file_extension": ".py",
   "mimetype": "text/x-python",
   "name": "python",
   "nbconvert_exporter": "python",
   "pygments_lexer": "ipython3",
   "version": "3.9.0"
  }
 },
 "nbformat": 4,
 "nbformat_minor": 2
}
